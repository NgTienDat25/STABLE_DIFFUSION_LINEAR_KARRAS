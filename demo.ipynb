{
 "cells": [
  {
   "cell_type": "code",
   "execution_count": null,
   "id": "d5eee95f",
   "metadata": {},
   "outputs": [],
   "source": [
    "import sd.model_loader as model_loader\n",
    "import sd.pipeline as pipeline \n",
    "from PIL import Image\n",
    "from transformers import CLIPTokenizer \n",
    "import torch\n",
    "\n",
    "DEVICE = 'cpu'\n",
    "\n",
    "ALLOW_CUDA = True\n",
    "\n",
    "if torch.cuda.is_available() and ALLOW_CUDA:\n",
    "    DEVICE = \"cuda\"\n",
    "print(f\"Using {DEVICE}\")\n",
    "\n",
    "tokenizer = CLIPTokenizer(\"../data/vocab.json\", merges_file = \"../data/merges.txt\")\n",
    "model_file = \"../v1-5-pruned-emaonly.ckpt\"\n",
    "models = model_loader.preload_models_from_standard_weights(model_file, DEVICE)\n",
    "\n",
    "prompt = \"dog wearing glasses\"\n",
    "uncond_prompt = \"\"\n",
    "do_cfg = True\n",
    "cfg_scale = 7\n",
    "\n",
    "input_image = None\n",
    "# you also can do with input image\n",
    "# image_path = \"../images/anh-meo-bua-50.jpg\"\n",
    "# input_image = Image.open(image_path)\n",
    "strength = 0.9\n",
    "\n",
    "sampler = \"ddpm\"\n",
    "num_inference_steps = 50\n",
    "seed = 123 \n",
    "\n",
    "output_image = pipeline.generate(\n",
    "    prompt = prompt, \n",
    "    uncond_prompt = uncond_prompt,\n",
    "    input_image = input_image,\n",
    "    strength = strength,\n",
    "    do_cfg = do_cfg,\n",
    "    cfg_scale =cfg_scale,\n",
    "    sampler_name= sampler,\n",
    "    n_inference_steps= num_inference_steps,\n",
    "    models= models,\n",
    "    seed= seed,\n",
    "    device= DEVICE,\n",
    "    idle_device= \"cpu\",\n",
    "    tokenizer= tokenizer,\n",
    "    schedule=\"karras\", # linear\n",
    "    rho=7.0,\n",
    ")\n",
    "\n",
    "    "
   ]
  },
  {
   "cell_type": "code",
   "execution_count": null,
   "id": "8e93b96d",
   "metadata": {},
   "outputs": [],
   "source": [
    "output_image = Image.fromarray(output_image)"
   ]
  },
  {
   "cell_type": "code",
   "execution_count": null,
   "id": "558b09ad",
   "metadata": {},
   "outputs": [],
   "source": [
    "output_image"
   ]
  }
 ],
 "metadata": {
  "kernelspec": {
   "display_name": "conda_env",
   "language": "python",
   "name": "python3"
  },
  "language_info": {
   "codemirror_mode": {
    "name": "ipython",
    "version": 3
   },
   "file_extension": ".py",
   "mimetype": "text/x-python",
   "name": "python",
   "nbconvert_exporter": "python",
   "pygments_lexer": "ipython3",
   "version": "3.10.19"
  }
 },
 "nbformat": 4,
 "nbformat_minor": 5
}
